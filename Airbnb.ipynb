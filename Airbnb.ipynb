{
  "nbformat": 4,
  "nbformat_minor": 0,
  "metadata": {
    "colab": {
      "name": "Airbnb.ipynb",
      "provenance": [],
      "collapsed_sections": [],
      "authorship_tag": "ABX9TyMtyFWyG1pA72aC9RNqq+pS"
    },
    "kernelspec": {
      "name": "python3",
      "display_name": "Python 3"
    }
  },
  "cells": [
    {
      "cell_type": "markdown",
      "metadata": {
        "id": "ZvppRXc9Rz_3",
        "colab_type": "text"
      },
      "source": [
        "# When should you book Airbnbs in Seattle? \n",
        "A data-driven approach using Airbnb's 2016-2017 Seattle data.\n",
        "\n",
        "Link to post: https://medium.com/when-should-you-book-airbnbs-in-seattle/when-should-you-book-airbnbs-in-seattle-7a1456a87393?sk=b6996adcdb08c62539c7d393af6ff8b6\n",
        "\n",
        "## Introduction \n",
        "Seattle is one of Airbnb's most popular destinations in the west coast of the United States. Before booking this popular site, you might want to equip yourself with more knowledge to get the best deal. \n",
        "\n",
        "To help you score housing at the best prices, I used Airbnb data contaning 1393570 data points on Seattle availibilites, prices, and dates. \n",
        "\n",
        "Here are the three main questions we'll be exploring: \n",
        "1. *Are there more availabilities in some months relative to others?*\n",
        "2. *What month is it cheapest to book in Seattle?*\n",
        "3. *What day of the week do you get the best deal?*\n",
        "\n",
        "\n",
        "Let's get started with some importing libraries and the data. We'll also do some data wrangling to clean the data."
      ]
    },
    {
      "cell_type": "code",
      "metadata": {
        "id": "i1zFZOtNVkxf",
        "colab_type": "code",
        "colab": {}
      },
      "source": [
        "#standard imports \n",
        "import numpy as np \n",
        "import pandas as pd\n",
        "import matplotlib.pyplot as plt\n",
        "\n",
        "from fbprophet import Prophet"
      ],
      "execution_count": 0,
      "outputs": []
    },
    {
      "cell_type": "code",
      "metadata": {
        "id": "8fxq9jybVzCm",
        "colab_type": "code",
        "colab": {}
      },
      "source": [
        "#read airbnb calendar data\n",
        "df = pd.read_csv('calendar.csv')"
      ],
      "execution_count": 0,
      "outputs": []
    },
    {
      "cell_type": "code",
      "metadata": {
        "id": "gQLmB41IWJnz",
        "colab_type": "code",
        "outputId": "74f95c18-557e-4486-93f0-2402ad47c057",
        "colab": {
          "base_uri": "https://localhost:8080/",
          "height": 51
        }
      },
      "source": [
        "#data description \n",
        "print('There are {} total data points. There are cases {} of missing data'.format(df.shape[0], df.isna().sum()[3]))\n",
        "print('The ratio of missing cases is {}'.format(df.shape[0]/df.isna().sum()[3]))                                                                                                              "
      ],
      "execution_count": 0,
      "outputs": [
        {
          "output_type": "stream",
          "text": [
            "There are 1393570 total data points. There are cases 459028 of missing data\n",
            "The ratio of missing cases is 3.035915020434483\n"
          ],
          "name": "stdout"
        }
      ]
    },
    {
      "cell_type": "code",
      "metadata": {
        "id": "nMgCo2FSXyul",
        "colab_type": "code",
        "outputId": "63411f0f-53ed-4a3b-fc8b-8690dcd1c6df",
        "colab": {
          "base_uri": "https://localhost:8080/",
          "height": 172
        }
      },
      "source": [
        "print(df.head(2))\n",
        "print(\"\")\n",
        "#price is object, should be float\n",
        "#date should be datetime\n",
        "print(df.dtypes)"
      ],
      "execution_count": 0,
      "outputs": [
        {
          "output_type": "stream",
          "text": [
            "   listing_id        date available   price\n",
            "0      241032  2016-01-04         t  $85.00\n",
            "1      241032  2016-01-05         t  $85.00\n",
            "\n",
            "listing_id     int64\n",
            "date          object\n",
            "available     object\n",
            "price         object\n",
            "dtype: object\n"
          ],
          "name": "stdout"
        }
      ]
    },
    {
      "cell_type": "code",
      "metadata": {
        "id": "KfAri7K2c3bb",
        "colab_type": "code",
        "colab": {}
      },
      "source": [
        "#impute missing values with mean \n",
        "df.price = df.price.str.replace(\"$\",\"\")\n",
        "df.price = df.price.str.replace(\",\",\"\")\n",
        "df.price = df.price.astype(float)\n",
        "df.price = df.price.fillna(df.price.mean())\n",
        "df.price = pd.to_numeric(df.price)\n",
        "\n",
        "#convert date to datetime\n",
        "df.date = pd.to_datetime(df.date)\n",
        "\n",
        "#convert available from str to float \n",
        "df.available = np.where((df.available == 't'), 1, df.available)\n",
        "df.available = np.where((df.available == 'f'), 0, df.available)\n",
        "df.available = pd.to_numeric(df.available)"
      ],
      "execution_count": 0,
      "outputs": []
    },
    {
      "cell_type": "code",
      "metadata": {
        "id": "fu3Nnavvas3f",
        "colab_type": "code",
        "outputId": "e349839c-4724-447d-8351-bbf70b10670f",
        "colab": {
          "base_uri": "https://localhost:8080/",
          "height": 103
        }
      },
      "source": [
        "df.dtypes"
      ],
      "execution_count": 0,
      "outputs": [
        {
          "output_type": "execute_result",
          "data": {
            "text/plain": [
              "listing_id             int64\n",
              "date          datetime64[ns]\n",
              "available              int64\n",
              "price                float64\n",
              "dtype: object"
            ]
          },
          "metadata": {
            "tags": []
          },
          "execution_count": 108
        }
      ]
    },
    {
      "cell_type": "markdown",
      "metadata": {
        "id": "4goc5ikuUTq5",
        "colab_type": "text"
      },
      "source": [
        "## Part I: Are there more availabilities  in some months relative to others? \n",
        "\n",
        "If you're planning your trip to Seattle, you probably want to go during a month where you can have the most options to chose from. Using the Airbnb data, I discovered that: \n",
        "\n",
        "\n",
        "\n",
        "> There doesn't seem to be a huge differences in availabilities in most months, but you want to avoid booking in Janurary and July as the ratio of people offer accomdations is significnatly lower than average. \n",
        "\n"
      ]
    },
    {
      "cell_type": "code",
      "metadata": {
        "id": "NZ-uVwtXSYOZ",
        "colab_type": "code",
        "colab": {}
      },
      "source": [
        "#create copy, set index as date\n",
        "df_copy = df.copy()\n",
        "df_copy.index = df_copy.date"
      ],
      "execution_count": 0,
      "outputs": []
    },
    {
      "cell_type": "code",
      "metadata": {
        "id": "o5HonADYeqCr",
        "colab_type": "code",
        "outputId": "fe692400-8946-49f3-a790-adf616dbbd0b",
        "colab": {
          "base_uri": "https://localhost:8080/",
          "height": 140
        }
      },
      "source": [
        "df_copy.head(2)"
      ],
      "execution_count": 0,
      "outputs": [
        {
          "output_type": "execute_result",
          "data": {
            "text/html": [
              "<div>\n",
              "<style scoped>\n",
              "    .dataframe tbody tr th:only-of-type {\n",
              "        vertical-align: middle;\n",
              "    }\n",
              "\n",
              "    .dataframe tbody tr th {\n",
              "        vertical-align: top;\n",
              "    }\n",
              "\n",
              "    .dataframe thead th {\n",
              "        text-align: right;\n",
              "    }\n",
              "</style>\n",
              "<table border=\"1\" class=\"dataframe\">\n",
              "  <thead>\n",
              "    <tr style=\"text-align: right;\">\n",
              "      <th></th>\n",
              "      <th>listing_id</th>\n",
              "      <th>date</th>\n",
              "      <th>available</th>\n",
              "      <th>price</th>\n",
              "    </tr>\n",
              "    <tr>\n",
              "      <th>date</th>\n",
              "      <th></th>\n",
              "      <th></th>\n",
              "      <th></th>\n",
              "      <th></th>\n",
              "    </tr>\n",
              "  </thead>\n",
              "  <tbody>\n",
              "    <tr>\n",
              "      <th>2016-01-04</th>\n",
              "      <td>241032</td>\n",
              "      <td>2016-01-04</td>\n",
              "      <td>1</td>\n",
              "      <td>85.0</td>\n",
              "    </tr>\n",
              "    <tr>\n",
              "      <th>2016-01-05</th>\n",
              "      <td>241032</td>\n",
              "      <td>2016-01-05</td>\n",
              "      <td>1</td>\n",
              "      <td>85.0</td>\n",
              "    </tr>\n",
              "  </tbody>\n",
              "</table>\n",
              "</div>"
            ],
            "text/plain": [
              "            listing_id       date  available  price\n",
              "date                                               \n",
              "2016-01-04      241032 2016-01-04          1   85.0\n",
              "2016-01-05      241032 2016-01-05          1   85.0"
            ]
          },
          "metadata": {
            "tags": []
          },
          "execution_count": 110
        }
      ]
    },
    {
      "cell_type": "code",
      "metadata": {
        "id": "_aeoII79erXt",
        "colab_type": "code",
        "outputId": "6245ccaa-b684-42b2-a16c-09f5905fd139",
        "colab": {
          "base_uri": "https://localhost:8080/",
          "height": 476
        }
      },
      "source": [
        "#group data by month \n",
        "df_copy.resample(\"M\").mean()"
      ],
      "execution_count": 0,
      "outputs": [
        {
          "output_type": "execute_result",
          "data": {
            "text/html": [
              "<div>\n",
              "<style scoped>\n",
              "    .dataframe tbody tr th:only-of-type {\n",
              "        vertical-align: middle;\n",
              "    }\n",
              "\n",
              "    .dataframe tbody tr th {\n",
              "        vertical-align: top;\n",
              "    }\n",
              "\n",
              "    .dataframe thead th {\n",
              "        text-align: right;\n",
              "    }\n",
              "</style>\n",
              "<table border=\"1\" class=\"dataframe\">\n",
              "  <thead>\n",
              "    <tr style=\"text-align: right;\">\n",
              "      <th></th>\n",
              "      <th>listing_id</th>\n",
              "      <th>available</th>\n",
              "      <th>price</th>\n",
              "    </tr>\n",
              "    <tr>\n",
              "      <th>date</th>\n",
              "      <th></th>\n",
              "      <th></th>\n",
              "      <th></th>\n",
              "    </tr>\n",
              "  </thead>\n",
              "  <tbody>\n",
              "    <tr>\n",
              "      <th>2016-01-31</th>\n",
              "      <td>5.550111e+06</td>\n",
              "      <td>0.554133</td>\n",
              "      <td>128.870133</td>\n",
              "    </tr>\n",
              "    <tr>\n",
              "      <th>2016-02-29</th>\n",
              "      <td>5.550111e+06</td>\n",
              "      <td>0.662208</td>\n",
              "      <td>128.905102</td>\n",
              "    </tr>\n",
              "    <tr>\n",
              "      <th>2016-03-31</th>\n",
              "      <td>5.550111e+06</td>\n",
              "      <td>0.709187</td>\n",
              "      <td>131.349153</td>\n",
              "    </tr>\n",
              "    <tr>\n",
              "      <th>2016-04-30</th>\n",
              "      <td>5.550111e+06</td>\n",
              "      <td>0.663847</td>\n",
              "      <td>136.054321</td>\n",
              "    </tr>\n",
              "    <tr>\n",
              "      <th>2016-05-31</th>\n",
              "      <td>5.550111e+06</td>\n",
              "      <td>0.675670</td>\n",
              "      <td>139.021420</td>\n",
              "    </tr>\n",
              "    <tr>\n",
              "      <th>2016-06-30</th>\n",
              "      <td>5.550111e+06</td>\n",
              "      <td>0.674384</td>\n",
              "      <td>144.370582</td>\n",
              "    </tr>\n",
              "    <tr>\n",
              "      <th>2016-07-31</th>\n",
              "      <td>5.550111e+06</td>\n",
              "      <td>0.627097</td>\n",
              "      <td>146.817843</td>\n",
              "    </tr>\n",
              "    <tr>\n",
              "      <th>2016-08-31</th>\n",
              "      <td>5.550111e+06</td>\n",
              "      <td>0.645051</td>\n",
              "      <td>146.144582</td>\n",
              "    </tr>\n",
              "    <tr>\n",
              "      <th>2016-09-30</th>\n",
              "      <td>5.550111e+06</td>\n",
              "      <td>0.674402</td>\n",
              "      <td>141.526668</td>\n",
              "    </tr>\n",
              "    <tr>\n",
              "      <th>2016-10-31</th>\n",
              "      <td>5.550111e+06</td>\n",
              "      <td>0.696514</td>\n",
              "      <td>137.308997</td>\n",
              "    </tr>\n",
              "    <tr>\n",
              "      <th>2016-11-30</th>\n",
              "      <td>5.550111e+06</td>\n",
              "      <td>0.713986</td>\n",
              "      <td>136.334019</td>\n",
              "    </tr>\n",
              "    <tr>\n",
              "      <th>2016-12-31</th>\n",
              "      <td>5.550111e+06</td>\n",
              "      <td>0.735573</td>\n",
              "      <td>137.435089</td>\n",
              "    </tr>\n",
              "    <tr>\n",
              "      <th>2017-01-31</th>\n",
              "      <td>5.550111e+06</td>\n",
              "      <td>0.746202</td>\n",
              "      <td>137.152192</td>\n",
              "    </tr>\n",
              "  </tbody>\n",
              "</table>\n",
              "</div>"
            ],
            "text/plain": [
              "              listing_id  available       price\n",
              "date                                           \n",
              "2016-01-31  5.550111e+06   0.554133  128.870133\n",
              "2016-02-29  5.550111e+06   0.662208  128.905102\n",
              "2016-03-31  5.550111e+06   0.709187  131.349153\n",
              "2016-04-30  5.550111e+06   0.663847  136.054321\n",
              "2016-05-31  5.550111e+06   0.675670  139.021420\n",
              "2016-06-30  5.550111e+06   0.674384  144.370582\n",
              "2016-07-31  5.550111e+06   0.627097  146.817843\n",
              "2016-08-31  5.550111e+06   0.645051  146.144582\n",
              "2016-09-30  5.550111e+06   0.674402  141.526668\n",
              "2016-10-31  5.550111e+06   0.696514  137.308997\n",
              "2016-11-30  5.550111e+06   0.713986  136.334019\n",
              "2016-12-31  5.550111e+06   0.735573  137.435089\n",
              "2017-01-31  5.550111e+06   0.746202  137.152192"
            ]
          },
          "metadata": {
            "tags": []
          },
          "execution_count": 112
        }
      ]
    },
    {
      "cell_type": "code",
      "metadata": {
        "id": "pNqP3Wvue3Zr",
        "colab_type": "code",
        "outputId": "266340b3-6b2a-4d2d-b798-a63e9edd6d72",
        "colab": {
          "base_uri": "https://localhost:8080/",
          "height": 391
        }
      },
      "source": [
        "#plot results \n",
        "df_copy.available.resample(\"M\").mean().plot(kind='bar')"
      ],
      "execution_count": 0,
      "outputs": [
        {
          "output_type": "execute_result",
          "data": {
            "text/plain": [
              "<matplotlib.axes._subplots.AxesSubplot at 0x7f34c84121d0>"
            ]
          },
          "metadata": {
            "tags": []
          },
          "execution_count": 114
        },
        {
          "output_type": "display_data",
          "data": {
            "image/png": "[encoded data removed]",
            "text/plain": [
              "<Figure size 432x288 with 1 Axes>"
            ]
          },
          "metadata": {
            "tags": []
          }
        }
      ]
    },
    {
      "cell_type": "markdown",
      "metadata": {
        "id": "UJ00G6YSfUDc",
        "colab_type": "text"
      },
      "source": [
        "## Part II: What month is it cheapest to book in Seattle? \n",
        "\n",
        "If you're planning to visit Seattle, be aware that the summer is going to be much more expensive! \n",
        "\n",
        "> In this section, we clearly see that June, July, and August are the most expensive months. The winter months, conversely, are much cheaper. \n",
        "\n"
      ]
    },
    {
      "cell_type": "code",
      "metadata": {
        "id": "fNwa42pVfKjf",
        "colab_type": "code",
        "outputId": "6cd7c60f-9be7-4eef-941b-fabf0cabff35",
        "colab": {
          "base_uri": "https://localhost:8080/",
          "height": 310
        }
      },
      "source": [
        "df_copy.price.resample(\"M\").mean().plot()"
      ],
      "execution_count": 0,
      "outputs": [
        {
          "output_type": "execute_result",
          "data": {
            "text/plain": [
              "<matplotlib.axes._subplots.AxesSubplot at 0x7f34cddb28d0>"
            ]
          },
          "metadata": {
            "tags": []
          },
          "execution_count": 118
        },
        {
          "output_type": "display_data",
          "data": {
            "image/png": "[encoded data removed]",
            "text/plain": [
              "<Figure size 432x288 with 1 Axes>"
            ]
          },
          "metadata": {
            "tags": []
          }
        }
      ]
    },
    {
      "cell_type": "markdown",
      "metadata": {
        "id": "wAmoSYUtgZaD",
        "colab_type": "text"
      },
      "source": [
        "## Part II: What day of the week do you get the best deal?\n",
        "\n",
        "Using Facebook's Prophet model, we can get an undertanding of the time series trends for Airbnb bookings. Taking a look at the trends by week, we see that it's much more expensive to book on a weekend. \n",
        "\n",
        "> If you want to snag a deal, it's best to book during the weekdays. Tuesdays and Wednesdays seem particularily cheap. "
      ]
    },
    {
      "cell_type": "code",
      "metadata": {
        "id": "Koy6E8p5f1DK",
        "colab_type": "code",
        "colab": {}
      },
      "source": [
        "#labels for prophet\n",
        "df_copy.rename(columns={'date':'ds', 'price':'y'}, inplace=True)\n",
        "short = df_copy[:3000]"
      ],
      "execution_count": 0,
      "outputs": []
    },
    {
      "cell_type": "code",
      "metadata": {
        "id": "cGAdbWnAho2a",
        "colab_type": "code",
        "outputId": "c591cc10-9a30-46ca-82b8-e30109537b1a",
        "colab": {
          "base_uri": "https://localhost:8080/",
          "height": 106
        }
      },
      "source": [
        "#fit model \n",
        "mod = Prophet()\n",
        "mod.fit(short)"
      ],
      "execution_count": 0,
      "outputs": [
        {
          "output_type": "stream",
          "text": [
            "INFO:numexpr.utils:NumExpr defaulting to 2 threads.\n",
            "INFO:fbprophet:Disabling yearly seasonality. Run prophet with yearly_seasonality=True to override this.\n",
            "INFO:fbprophet:Disabling daily seasonality. Run prophet with daily_seasonality=True to override this.\n"
          ],
          "name": "stderr"
        },
        {
          "output_type": "execute_result",
          "data": {
            "text/plain": [
              "<fbprophet.forecaster.Prophet at 0x7f34c3fc72e8>"
            ]
          },
          "metadata": {
            "tags": []
          },
          "execution_count": 123
        }
      ]
    },
    {
      "cell_type": "code",
      "metadata": {
        "id": "iObODyImh4lA",
        "colab_type": "code",
        "outputId": "26c7920e-c775-4838-b281-7c0c3ab99cd6",
        "colab": {
          "base_uri": "https://localhost:8080/",
          "height": 201
        }
      },
      "source": [
        "#get futures\n",
        "future = mod.make_future_dataframe(periods=360)\n",
        "future.tail()"
      ],
      "execution_count": 0,
      "outputs": [
        {
          "output_type": "execute_result",
          "data": {
            "text/html": [
              "<div>\n",
              "<style scoped>\n",
              "    .dataframe tbody tr th:only-of-type {\n",
              "        vertical-align: middle;\n",
              "    }\n",
              "\n",
              "    .dataframe tbody tr th {\n",
              "        vertical-align: top;\n",
              "    }\n",
              "\n",
              "    .dataframe thead th {\n",
              "        text-align: right;\n",
              "    }\n",
              "</style>\n",
              "<table border=\"1\" class=\"dataframe\">\n",
              "  <thead>\n",
              "    <tr style=\"text-align: right;\">\n",
              "      <th></th>\n",
              "      <th>ds</th>\n",
              "    </tr>\n",
              "  </thead>\n",
              "  <tbody>\n",
              "    <tr>\n",
              "      <th>3355</th>\n",
              "      <td>2017-12-24</td>\n",
              "    </tr>\n",
              "    <tr>\n",
              "      <th>3356</th>\n",
              "      <td>2017-12-25</td>\n",
              "    </tr>\n",
              "    <tr>\n",
              "      <th>3357</th>\n",
              "      <td>2017-12-26</td>\n",
              "    </tr>\n",
              "    <tr>\n",
              "      <th>3358</th>\n",
              "      <td>2017-12-27</td>\n",
              "    </tr>\n",
              "    <tr>\n",
              "      <th>3359</th>\n",
              "      <td>2017-12-28</td>\n",
              "    </tr>\n",
              "  </tbody>\n",
              "</table>\n",
              "</div>"
            ],
            "text/plain": [
              "             ds\n",
              "3355 2017-12-24\n",
              "3356 2017-12-25\n",
              "3357 2017-12-26\n",
              "3358 2017-12-27\n",
              "3359 2017-12-28"
            ]
          },
          "metadata": {
            "tags": []
          },
          "execution_count": 124
        }
      ]
    },
    {
      "cell_type": "code",
      "metadata": {
        "id": "6czu6iZfh6Zw",
        "colab_type": "code",
        "outputId": "e78baaa9-d8ab-465d-f9ed-a4d92a266c6f",
        "colab": {
          "base_uri": "https://localhost:8080/",
          "height": 201
        }
      },
      "source": [
        "#predict\n",
        "forecast = mod.predict(future)\n",
        "forecast[['ds', 'yhat', 'yhat_lower', 'yhat_upper']].tail()"
      ],
      "execution_count": 0,
      "outputs": [
        {
          "output_type": "execute_result",
          "data": {
            "text/html": [
              "<div>\n",
              "<style scoped>\n",
              "    .dataframe tbody tr th:only-of-type {\n",
              "        vertical-align: middle;\n",
              "    }\n",
              "\n",
              "    .dataframe tbody tr th {\n",
              "        vertical-align: top;\n",
              "    }\n",
              "\n",
              "    .dataframe thead th {\n",
              "        text-align: right;\n",
              "    }\n",
              "</style>\n",
              "<table border=\"1\" class=\"dataframe\">\n",
              "  <thead>\n",
              "    <tr style=\"text-align: right;\">\n",
              "      <th></th>\n",
              "      <th>ds</th>\n",
              "      <th>yhat</th>\n",
              "      <th>yhat_lower</th>\n",
              "      <th>yhat_upper</th>\n",
              "    </tr>\n",
              "  </thead>\n",
              "  <tbody>\n",
              "    <tr>\n",
              "      <th>3355</th>\n",
              "      <td>2017-12-24</td>\n",
              "      <td>610.387524</td>\n",
              "      <td>149.868727</td>\n",
              "      <td>1039.817413</td>\n",
              "    </tr>\n",
              "    <tr>\n",
              "      <th>3356</th>\n",
              "      <td>2017-12-25</td>\n",
              "      <td>608.826420</td>\n",
              "      <td>188.419287</td>\n",
              "      <td>987.080743</td>\n",
              "    </tr>\n",
              "    <tr>\n",
              "      <th>3357</th>\n",
              "      <td>2017-12-26</td>\n",
              "      <td>608.602675</td>\n",
              "      <td>199.552566</td>\n",
              "      <td>1059.838342</td>\n",
              "    </tr>\n",
              "    <tr>\n",
              "      <th>3358</th>\n",
              "      <td>2017-12-27</td>\n",
              "      <td>606.945993</td>\n",
              "      <td>181.775927</td>\n",
              "      <td>1015.716182</td>\n",
              "    </tr>\n",
              "    <tr>\n",
              "      <th>3359</th>\n",
              "      <td>2017-12-28</td>\n",
              "      <td>608.324633</td>\n",
              "      <td>192.029148</td>\n",
              "      <td>1022.619632</td>\n",
              "    </tr>\n",
              "  </tbody>\n",
              "</table>\n",
              "</div>"
            ],
            "text/plain": [
              "             ds        yhat  yhat_lower   yhat_upper\n",
              "3355 2017-12-24  610.387524  149.868727  1039.817413\n",
              "3356 2017-12-25  608.826420  188.419287   987.080743\n",
              "3357 2017-12-26  608.602675  199.552566  1059.838342\n",
              "3358 2017-12-27  606.945993  181.775927  1015.716182\n",
              "3359 2017-12-28  608.324633  192.029148  1022.619632"
            ]
          },
          "metadata": {
            "tags": []
          },
          "execution_count": 125
        }
      ]
    },
    {
      "cell_type": "code",
      "metadata": {
        "id": "AX-z4Zpah88u",
        "colab_type": "code",
        "outputId": "4dea7844-598b-4932-f34e-4caddecfedda",
        "colab": {
          "base_uri": "https://localhost:8080/",
          "height": 441
        }
      },
      "source": [
        "#plot components \n",
        "figure = mod.plot_components(forecast)"
      ],
      "execution_count": 0,
      "outputs": [
        {
          "output_type": "display_data",
          "data": {
            "image/png": "[encoded data removed]",
            "text/plain": [
              "<Figure size 648x432 with 2 Axes>"
            ]
          },
          "metadata": {
            "tags": []
          }
        }
      ]
    },
    {
      "cell_type": "markdown",
      "metadata": {
        "id": "tWU8tgSCidjc",
        "colab_type": "text"
      },
      "source": [
        "## Conclusion \n",
        "\n",
        "In this article, we looked at 2016/17 Seattle Airbnb data. We cleaned the data and showed that:\n",
        "\n",
        "\n",
        "> 1. There are fewer availiable houses in Janurary and July.\n",
        "> 2. The summer months are much more expensive to book relative to wnter months.\n",
        "> 3. Booknig near the weekend is much more expensive than bookng in the middle of the week.  \n",
        "\n",
        "We hope these tips help you with your next booking. Feel free to tell us how and when YOU like to travel."
      ]
    },
    {
      "cell_type": "code",
      "metadata": {
        "id": "ixhjb95uhppn",
        "colab_type": "code",
        "colab": {}
      },
      "source": [
        ""
      ],
      "execution_count": 0,
      "outputs": []
    }
  ]
}